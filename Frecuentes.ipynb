{
 "cells": [
  {
   "cell_type": "markdown",
   "id": "5fab0693",
   "metadata": {},
   "source": [
    "# Sin contador"
   ]
  },
  {
   "cell_type": "code",
   "execution_count": 2,
   "id": "5f02f661",
   "metadata": {},
   "outputs": [
    {
     "name": "stdout",
     "output_type": "stream",
     "text": [
      "[frozenset({'a'}), frozenset({'p'}), frozenset({'b'}), frozenset({'x'}), frozenset({'q'}), frozenset({'a', 'p'}), frozenset({'a', 'p'}), frozenset({'x', 'q'}), frozenset({'x', 'q'})]\n"
     ]
    }
   ],
   "source": [
    "from collections import defaultdict\n",
    "\n",
    "def apriori(transactions, min_support):\n",
    "    item_counts = defaultdict(int)\n",
    "    for transaction in transactions:\n",
    "        for item in transaction:\n",
    "            item_counts[item] += 1\n",
    "    items = [item for item, count in item_counts.items() if count >= min_support]\n",
    "    itemsets = [frozenset([item]) for item in items]\n",
    "    frequent_itemsets = []\n",
    "    while itemsets:\n",
    "        frequent_itemsets.extend(itemsets)\n",
    "        itemsets = [itemset1.union(itemset2) for itemset1 in itemsets\n",
    "                    for itemset2 in itemsets if len(itemset1.union(itemset2)) == len(itemset1) + 1]\n",
    "        itemsets = [itemset for itemset in itemsets if sum(1 for transaction in transactions if itemset.issubset(transaction)) >= min_support]\n",
    "    return frequent_itemsets\n",
    "\n",
    "transactions = [{\"a\", \"p\"},                \n",
    "                {\"b\", \"q\", \"x\"},                \n",
    "                {\"a\", \"b\", \"p\"},                \n",
    "                {\"b\", \"c\", \"d\", \"m\"},\n",
    "                {\"q\", \"x\", \"y\"}]\n",
    "\n",
    "min_support = 2\n",
    "frequent_itemsets = apriori(transactions, min_support)\n",
    "print(frequent_itemsets)\n"
   ]
  },
  {
   "cell_type": "markdown",
   "id": "308e7201",
   "metadata": {},
   "source": [
    "# Con contador"
   ]
  },
  {
   "cell_type": "code",
   "execution_count": 3,
   "id": "9e1a6b1f",
   "metadata": {},
   "outputs": [
    {
     "name": "stdout",
     "output_type": "stream",
     "text": [
      "{('a', 'p'): 2, ('b', 'x'): 1, ('b', 'q'): 1, ('x', 'q'): 2, ('a', 'b'): 1, ('p', 'b'): 1}\n"
     ]
    }
   ],
   "source": [
    "def get_frequent_itemsets(transactions, min_support):\n",
    "    item_counts = {}\n",
    "    for transaction in transactions:\n",
    "        for item in transaction:\n",
    "            if item in item_counts:\n",
    "                item_counts[item] += 1\n",
    "            else:\n",
    "                item_counts[item] = 1\n",
    "    frequent_itemsets = {}\n",
    "    items = [item for item, count in item_counts.items() if count >= min_support]\n",
    "    itemsets = [[item] for item in items]\n",
    "    while itemsets:\n",
    "        new_itemsets = []\n",
    "        for i, itemset1 in enumerate(itemsets):\n",
    "            for j, itemset2 in enumerate(itemsets):\n",
    "                if i >= j:\n",
    "                    continue\n",
    "                new_itemset = itemset1 + itemset2\n",
    "                if len(new_itemset) == len(itemset1) + 1:\n",
    "                    new_itemsets.append(new_itemset)\n",
    "        item_counts = {}\n",
    "        for transaction in transactions:\n",
    "            for new_itemset in new_itemsets:\n",
    "                if set(new_itemset).issubset(transaction):\n",
    "                    if tuple(new_itemset) in item_counts:\n",
    "                        item_counts[tuple(new_itemset)] += 1\n",
    "                    else:\n",
    "                        item_counts[tuple(new_itemset)] = 1\n",
    "        itemsets = [itemset for itemset, count in item_counts.items() if count >= min_support]\n",
    "        frequent_itemsets.update({tuple(itemset): count for itemset, count in item_counts.items()})\n",
    "    return frequent_itemsets\n",
    "\n",
    "transactions = [{\"a\", \"p\"},                \n",
    "                {\"b\", \"q\", \"x\"},                \n",
    "                {\"a\", \"b\", \"p\"},                \n",
    "                {\"b\", \"c\", \"d\", \"m\"},\n",
    "                {\"q\", \"x\", \"y\"}]\n",
    "min_support = 2\n",
    "frequent_itemsets = get_frequent_itemsets(transactions, min_support)\n",
    "print(frequent_itemsets)\n",
    "\n"
   ]
  },
  {
   "cell_type": "markdown",
   "id": "ac8c27a4",
   "metadata": {},
   "source": [
    "# Contador con cero"
   ]
  },
  {
   "cell_type": "code",
   "execution_count": 4,
   "id": "b288291b",
   "metadata": {},
   "outputs": [],
   "source": [
    "import itertools "
   ]
  },
  {
   "cell_type": "code",
   "execution_count": 5,
   "id": "ca5941b0",
   "metadata": {},
   "outputs": [
    {
     "name": "stdout",
     "output_type": "stream",
     "text": [
      "Frequent itemsets:\n",
      "{('a', 'p'): 2, ('b', 'x'): 1, ('b', 'q'): 1, ('x', 'q'): 2, ('a', 'b'): 1, ('p', 'b'): 1}\n",
      "\n",
      "Itemsets with zero frequency:\n",
      "[('a',), ('p',), ('b',), ('x',), ('q',), ('b', 'x', 'q'), ('a',), ('b',), ('p',), ('b', 'p'), ('a', 'b', 'p'), ('c',), ('m',), ('b',), ('d',), ('c', 'm'), ('c', 'b'), ('c', 'd'), ('m', 'b'), ('m', 'd'), ('b', 'd'), ('c', 'm', 'b'), ('c', 'm', 'd'), ('c', 'b', 'd'), ('m', 'b', 'd'), ('c', 'm', 'b', 'd'), ('y',), ('x',), ('q',), ('y', 'x'), ('y', 'q'), ('y', 'x', 'q')]\n"
     ]
    }
   ],
   "source": [
    "def get_frequent_itemsets(transactions, min_support):\n",
    "    item_counts = {}\n",
    "    for transaction in transactions:\n",
    "        for item in transaction:\n",
    "            if item in item_counts:\n",
    "                item_counts[item] += 1\n",
    "            else:\n",
    "                item_counts[item] = 1\n",
    "\n",
    "    frequent_itemsets = {}\n",
    "    items = [item for item, count in item_counts.items() if count >= min_support]\n",
    "    itemsets = [[item] for item in items]\n",
    "    while itemsets:\n",
    "        new_itemsets = []\n",
    "        for i, itemset1 in enumerate(itemsets):\n",
    "            for j, itemset2 in enumerate(itemsets):\n",
    "                if i >= j:\n",
    "                    continue\n",
    "                new_itemset = itemset1 + itemset2\n",
    "                if len(new_itemset) == len(itemset1) + 1:\n",
    "                    new_itemsets.append(new_itemset)\n",
    "        \n",
    "        item_counts = {}\n",
    "        for transaction in transactions:\n",
    "            for new_itemset in new_itemsets:\n",
    "                if set(new_itemset).issubset(transaction):\n",
    "                    if tuple(new_itemset) in item_counts:\n",
    "                        item_counts[tuple(new_itemset)] += 1\n",
    "                    else:\n",
    "                        item_counts[tuple(new_itemset)] = 1\n",
    "        \n",
    "        itemsets = [itemset for itemset, count in item_counts.items() if count >= min_support]\n",
    "        frequent_itemsets.update({tuple(itemset): count for itemset, count in item_counts.items()})\n",
    "    \n",
    "    all_itemsets = []\n",
    "    for transaction in transactions:\n",
    "        for itemset_length in range(1, len(transaction) + 1):\n",
    "            for itemset in itertools.combinations(transaction, itemset_length):\n",
    "                all_itemsets.append(itemset)\n",
    "                \n",
    "    zero_frequency_itemsets = [itemset for itemset in all_itemsets if itemset not in frequent_itemsets]\n",
    "    print(\"Frequent itemsets:\")\n",
    "    print(frequent_itemsets)\n",
    "    print(\"\\nItemsets with zero frequency:\")\n",
    "    print(zero_frequency_itemsets)\n",
    "\n",
    "transactions = [{\"a\", \"p\"},                \n",
    "                {\"b\", \"q\", \"x\"},                \n",
    "                {\"a\", \"b\", \"p\"},                \n",
    "                {\"b\", \"c\", \"d\", \"m\"},\n",
    "                {\"q\", \"x\", \"y\"}]\n",
    "min_support = 2\n",
    "frequent_itemsets = get_frequent_itemsets(transactions, min_support)\n"
   ]
  },
  {
   "cell_type": "markdown",
   "id": "785cbb05",
   "metadata": {},
   "source": [
    "### Test\n",
    "\n",
    "transactions = [{\"f\", \"a\", \"c\", \"d\", \"g\", \"i\", \"m\", \"p\"},                \n",
    "                {\"a\", \"b\", \"c\", \"f\", \"l\", \"m\", \"o\"},                \n",
    "                {\"b\", \"f\", \"h\", \"j\", \"o\"},                \n",
    "                {\"b\", \"c\", \"k\", \"s\", \"p\"},\n",
    "                {\"a\", \"f\", \"c\", \"e\", \"l\", \"p\", \"m\", \"n\"}]\n",
    "                \n",
    "transactions = [{\"7\", \"16\", \"21\", \"24\"},                \n",
    "                {\"8\", \"25\", \"29\"},                \n",
    "                {\"28\"},                \n",
    "                {\"10\", \"17\", \"19\", \"29\"},\n",
    "                {\"9\", \"15\", \"18\", \"28\"},\n",
    "                {\"1\", \"4\", \"22\", \"28\", \"29\"},                \n",
    "                {\"23\"},                \n",
    "                {\"2\", \"14\", \"18\",  \"23\", \"26\"},                \n",
    "                {\"20\"},\n",
    "                {\"5\", \"28\"},\n",
    "                {\"3\", \"6\", \"18\", \"25\", \"27\"},                \n",
    "                {\"3\", \"4\", \"7\", \"11\", \"12\", \"13\", \"25\", \"28\", \"29\"}]"
   ]
  },
  {
   "cell_type": "code",
   "execution_count": null,
   "id": "e2dd854a",
   "metadata": {},
   "outputs": [],
   "source": []
  }
 ],
 "metadata": {
  "kernelspec": {
   "display_name": "Python 3 (ipykernel)",
   "language": "python",
   "name": "python3"
  },
  "language_info": {
   "codemirror_mode": {
    "name": "ipython",
    "version": 3
   },
   "file_extension": ".py",
   "mimetype": "text/x-python",
   "name": "python",
   "nbconvert_exporter": "python",
   "pygments_lexer": "ipython3",
   "version": "3.9.7"
  }
 },
 "nbformat": 4,
 "nbformat_minor": 5
}
