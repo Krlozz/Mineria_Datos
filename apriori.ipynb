{
 "cells": [
  {
   "cell_type": "code",
   "execution_count": 13,
   "id": "bbef909e",
   "metadata": {},
   "outputs": [],
   "source": [
    "import pandas as pd\n",
    "import apriori_python as apr\n",
    "import math"
   ]
  },
  {
   "cell_type": "code",
   "execution_count": 2,
   "id": "44d3a395",
   "metadata": {},
   "outputs": [],
   "source": [
    "dataset = pd.read_excel('C:/Users/Krlozz/Downloads/asociacion.xlsx')"
   ]
  },
  {
   "cell_type": "code",
   "execution_count": 3,
   "id": "06a16010",
   "metadata": {},
   "outputs": [
    {
     "name": "stdout",
     "output_type": "stream",
     "text": [
      "<bound method NDFrame.head of     Unnamed: 0    1    2    3    4    5    6    7    8    9  ...    20    21  \\\n",
      "0            1  NaN  NaN  NaN  NaN  NaN  NaN  7.0  NaN  NaN  ...   NaN  21.0   \n",
      "1            2  NaN  NaN  NaN  NaN  NaN  NaN  NaN  8.0  NaN  ...   NaN   NaN   \n",
      "2            3  NaN  NaN  NaN  NaN  NaN  NaN  NaN  NaN  NaN  ...   NaN   NaN   \n",
      "3            4  NaN  NaN  NaN  NaN  NaN  NaN  NaN  NaN  NaN  ...   NaN   NaN   \n",
      "4            5  NaN  NaN  NaN  NaN  NaN  NaN  NaN  NaN  9.0  ...   NaN   NaN   \n",
      "5            6  1.0  NaN  NaN  4.0  NaN  NaN  NaN  NaN  NaN  ...   NaN   NaN   \n",
      "6            7  NaN  NaN  NaN  NaN  NaN  NaN  NaN  NaN  NaN  ...   NaN   NaN   \n",
      "7            8  NaN  2.0  NaN  NaN  NaN  NaN  NaN  NaN  NaN  ...   NaN   NaN   \n",
      "8            9  NaN  NaN  NaN  NaN  NaN  NaN  NaN  NaN  NaN  ...  20.0   NaN   \n",
      "9           10  NaN  NaN  NaN  NaN  5.0  NaN  NaN  NaN  NaN  ...   NaN   NaN   \n",
      "10          11  NaN  NaN  3.0  NaN  NaN  6.0  NaN  NaN  NaN  ...   NaN   NaN   \n",
      "11          12  NaN  NaN  3.0  4.0  NaN  NaN  7.0  NaN  NaN  ...   NaN   NaN   \n",
      "\n",
      "      22    23    24    25    26    27    28    29  \n",
      "0    NaN   NaN  24.0   NaN   NaN   NaN   NaN   NaN  \n",
      "1    NaN   NaN   NaN  25.0   NaN   NaN   NaN  29.0  \n",
      "2    NaN   NaN   NaN   NaN   NaN  28.0   NaN   NaN  \n",
      "3    NaN   NaN   NaN   NaN   NaN   NaN   NaN  29.0  \n",
      "4    NaN   NaN   NaN   NaN   NaN   NaN  28.0   NaN  \n",
      "5   22.0   NaN   NaN   NaN   NaN   NaN  28.0  29.0  \n",
      "6    NaN  23.0   NaN   NaN   NaN   NaN   NaN   NaN  \n",
      "7    NaN  23.0   NaN   NaN  26.0   NaN   NaN   NaN  \n",
      "8    NaN   NaN   NaN   NaN   NaN   NaN   NaN   NaN  \n",
      "9    NaN   NaN   NaN   NaN   NaN   NaN  28.0   NaN  \n",
      "10   NaN   NaN   NaN  25.0   NaN  27.0   NaN   NaN  \n",
      "11   NaN   NaN   NaN  25.0   NaN   NaN  28.0  29.0  \n",
      "\n",
      "[12 rows x 30 columns]>\n"
     ]
    }
   ],
   "source": [
    "print(dataset.head)"
   ]
  },
  {
   "cell_type": "code",
   "execution_count": 4,
   "id": "518ccb7b",
   "metadata": {},
   "outputs": [
    {
     "data": {
      "text/plain": [
       "<bound method NDFrame.head of     Unnamed: 0    1    2    3    4    5    6    7    8    9  ...    20    21  \\\n",
       "0            1  NaN  NaN  NaN  NaN  NaN  NaN  7.0  NaN  NaN  ...   NaN  21.0   \n",
       "1            2  NaN  NaN  NaN  NaN  NaN  NaN  NaN  8.0  NaN  ...   NaN   NaN   \n",
       "2            3  NaN  NaN  NaN  NaN  NaN  NaN  NaN  NaN  NaN  ...   NaN   NaN   \n",
       "3            4  NaN  NaN  NaN  NaN  NaN  NaN  NaN  NaN  NaN  ...   NaN   NaN   \n",
       "4            5  NaN  NaN  NaN  NaN  NaN  NaN  NaN  NaN  9.0  ...   NaN   NaN   \n",
       "5            6  1.0  NaN  NaN  4.0  NaN  NaN  NaN  NaN  NaN  ...   NaN   NaN   \n",
       "6            7  NaN  NaN  NaN  NaN  NaN  NaN  NaN  NaN  NaN  ...   NaN   NaN   \n",
       "7            8  NaN  2.0  NaN  NaN  NaN  NaN  NaN  NaN  NaN  ...   NaN   NaN   \n",
       "8            9  NaN  NaN  NaN  NaN  NaN  NaN  NaN  NaN  NaN  ...  20.0   NaN   \n",
       "9           10  NaN  NaN  NaN  NaN  5.0  NaN  NaN  NaN  NaN  ...   NaN   NaN   \n",
       "10          11  NaN  NaN  3.0  NaN  NaN  6.0  NaN  NaN  NaN  ...   NaN   NaN   \n",
       "11          12  NaN  NaN  3.0  4.0  NaN  NaN  7.0  NaN  NaN  ...   NaN   NaN   \n",
       "\n",
       "      22    23    24    25    26    27    28    29  \n",
       "0    NaN   NaN  24.0   NaN   NaN   NaN   NaN   NaN  \n",
       "1    NaN   NaN   NaN  25.0   NaN   NaN   NaN  29.0  \n",
       "2    NaN   NaN   NaN   NaN   NaN  28.0   NaN   NaN  \n",
       "3    NaN   NaN   NaN   NaN   NaN   NaN   NaN  29.0  \n",
       "4    NaN   NaN   NaN   NaN   NaN   NaN  28.0   NaN  \n",
       "5   22.0   NaN   NaN   NaN   NaN   NaN  28.0  29.0  \n",
       "6    NaN  23.0   NaN   NaN   NaN   NaN   NaN   NaN  \n",
       "7    NaN  23.0   NaN   NaN  26.0   NaN   NaN   NaN  \n",
       "8    NaN   NaN   NaN   NaN   NaN   NaN   NaN   NaN  \n",
       "9    NaN   NaN   NaN   NaN   NaN   NaN  28.0   NaN  \n",
       "10   NaN   NaN   NaN  25.0   NaN  27.0   NaN   NaN  \n",
       "11   NaN   NaN   NaN  25.0   NaN   NaN  28.0  29.0  \n",
       "\n",
       "[12 rows x 30 columns]>"
      ]
     },
     "execution_count": 4,
     "metadata": {},
     "output_type": "execute_result"
    }
   ],
   "source": [
    "dataset.head"
   ]
  },
  {
   "cell_type": "code",
   "execution_count": 7,
   "id": "aa1d3221",
   "metadata": {},
   "outputs": [
    {
     "data": {
      "text/plain": [
       "30"
      ]
     },
     "execution_count": 7,
     "metadata": {},
     "output_type": "execute_result"
    }
   ],
   "source": [
    "dataset.shape[1]"
   ]
  },
  {
   "cell_type": "code",
   "execution_count": 22,
   "id": "3f96f9c1",
   "metadata": {},
   "outputs": [],
   "source": [
    "datos1 = []\n",
    "datos2 = []"
   ]
  },
  {
   "cell_type": "code",
   "execution_count": 23,
   "id": "c903e399",
   "metadata": {},
   "outputs": [
    {
     "data": {
      "text/plain": [
       "12"
      ]
     },
     "execution_count": 23,
     "metadata": {},
     "output_type": "execute_result"
    }
   ],
   "source": [
    "len(dataset) # len(dataset.index) # igual"
   ]
  },
  {
   "cell_type": "code",
   "execution_count": 24,
   "id": "78b32eac",
   "metadata": {},
   "outputs": [],
   "source": [
    "for i in range(len(dataset)):\n",
    "    datos1.append([str(int(dataset.values[i, j])) for j in range(0,dataset.shape[1]) if not math.isnan(dataset.values[i, j])])"
   ]
  },
  {
   "cell_type": "code",
   "execution_count": 25,
   "id": "294acd83",
   "metadata": {},
   "outputs": [
    {
     "data": {
      "text/plain": [
       "[['1', '7', '16', '21', '24'],\n",
       " ['2', '8', '25', '29'],\n",
       " ['3', '28'],\n",
       " ['4', '10', '17', '19', '29'],\n",
       " ['5', '9', '15', '18', '28'],\n",
       " ['6', '1', '4', '22', '28', '29'],\n",
       " ['7', '23'],\n",
       " ['8', '2', '14', '18', '23', '26'],\n",
       " ['9', '20'],\n",
       " ['10', '5', '28'],\n",
       " ['11', '3', '6', '18', '25', '27'],\n",
       " ['12', '3', '4', '7', '11', '12', '13', '25', '28', '29']]"
      ]
     },
     "execution_count": 25,
     "metadata": {},
     "output_type": "execute_result"
    }
   ],
   "source": [
    "datos1"
   ]
  },
  {
   "cell_type": "code",
   "execution_count": 26,
   "id": "f81e8fa2",
   "metadata": {},
   "outputs": [],
   "source": [
    "minsup = 0.16\n",
    "minconf = 0.6\n",
    "\n",
    "pf, reglas = apr.apriori(datos1, minSup = minsup, minConf = minconf)"
   ]
  },
  {
   "cell_type": "code",
   "execution_count": 27,
   "id": "51798a94",
   "metadata": {},
   "outputs": [
    {
     "data": {
      "text/plain": [
       "{1: {frozenset({'5'}),\n",
       "  frozenset({'4'}),\n",
       "  frozenset({'23'}),\n",
       "  frozenset({'7'}),\n",
       "  frozenset({'9'}),\n",
       "  frozenset({'2'}),\n",
       "  frozenset({'3'}),\n",
       "  frozenset({'11'}),\n",
       "  frozenset({'29'}),\n",
       "  frozenset({'10'}),\n",
       "  frozenset({'1'}),\n",
       "  frozenset({'8'}),\n",
       "  frozenset({'6'}),\n",
       "  frozenset({'18'}),\n",
       "  frozenset({'25'}),\n",
       "  frozenset({'28'})},\n",
       " 2: {frozenset({'28', '29'}),\n",
       "  frozenset({'2', '8'}),\n",
       "  frozenset({'25', '29'}),\n",
       "  frozenset({'11', '3'}),\n",
       "  frozenset({'28', '5'}),\n",
       "  frozenset({'28', '4'}),\n",
       "  frozenset({'25', '3'}),\n",
       "  frozenset({'29', '4'}),\n",
       "  frozenset({'11', '25'}),\n",
       "  frozenset({'28', '3'})},\n",
       " 3: {frozenset({'28', '29', '4'}), frozenset({'11', '25', '3'})}}"
      ]
     },
     "execution_count": 27,
     "metadata": {},
     "output_type": "execute_result"
    }
   ],
   "source": [
    "pf"
   ]
  },
  {
   "cell_type": "code",
   "execution_count": 28,
   "id": "357489a3",
   "metadata": {},
   "outputs": [
    {
     "data": {
      "text/plain": [
       "[[{'25'}, {'29'}, 0.6666666666666666],\n",
       " [{'3'}, {'11'}, 0.6666666666666666],\n",
       " [{'4'}, {'28'}, 0.6666666666666666],\n",
       " [{'25'}, {'3'}, 0.6666666666666666],\n",
       " [{'3'}, {'25'}, 0.6666666666666666],\n",
       " [{'25'}, {'11'}, 0.6666666666666666],\n",
       " [{'3'}, {'28'}, 0.6666666666666666],\n",
       " [{'4'}, {'28', '29'}, 0.6666666666666666],\n",
       " [{'29', '4'}, {'28'}, 0.6666666666666666],\n",
       " [{'25'}, {'11', '3'}, 0.6666666666666666],\n",
       " [{'3'}, {'11', '25'}, 0.6666666666666666],\n",
       " [{'29'}, {'4'}, 0.75],\n",
       " [{'2'}, {'8'}, 1.0],\n",
       " [{'8'}, {'2'}, 1.0],\n",
       " [{'11'}, {'3'}, 1.0],\n",
       " [{'5'}, {'28'}, 1.0],\n",
       " [{'4'}, {'29'}, 1.0],\n",
       " [{'11'}, {'25'}, 1.0],\n",
       " [{'28', '29'}, {'4'}, 1.0],\n",
       " [{'28', '4'}, {'29'}, 1.0],\n",
       " [{'11'}, {'25', '3'}, 1.0],\n",
       " [{'11', '25'}, {'3'}, 1.0],\n",
       " [{'25', '3'}, {'11'}, 1.0],\n",
       " [{'11', '3'}, {'25'}, 1.0]]"
      ]
     },
     "execution_count": 28,
     "metadata": {},
     "output_type": "execute_result"
    }
   ],
   "source": [
    "reglas"
   ]
  },
  {
   "cell_type": "code",
   "execution_count": null,
   "id": "796c7ce3",
   "metadata": {},
   "outputs": [],
   "source": []
  },
  {
   "cell_type": "code",
   "execution_count": 79,
   "id": "1a99b455",
   "metadata": {},
   "outputs": [
    {
     "name": "stdout",
     "output_type": "stream",
     "text": [
      "['Unnamed: 0', 1, 2, 3, 4, 5, 6, 7, 8, 9, 10, 11, 12, 13, 14, 15, 16, 17, 18, 19, 20, 21, 22, 23, 24, 25, 26, 27, 28, 29]\n"
     ]
    }
   ],
   "source": [
    "headers = dataset.columns.tolist()\n",
    "\n",
    "print(headers)"
   ]
  },
  {
   "cell_type": "code",
   "execution_count": 62,
   "id": "65b5d727",
   "metadata": {},
   "outputs": [],
   "source": [
    "for i in range(dataset.shape[0]):\n",
    "    row = dataset.iloc[i].tolist()\n",
    "    datos2.append(row)"
   ]
  },
  {
   "cell_type": "code",
   "execution_count": 65,
   "id": "c15f0d04",
   "metadata": {},
   "outputs": [
    {
     "name": "stdout",
     "output_type": "stream",
     "text": [
      "[[1.0, nan, nan, nan, nan, nan, nan, 7.0, nan, nan, nan, nan, nan, nan, nan, nan, 16.0, nan, nan, nan, nan, 21.0, nan, nan, 24.0, nan, nan, nan, nan, nan], [2.0, nan, nan, nan, nan, nan, nan, nan, 8.0, nan, nan, nan, nan, nan, nan, nan, nan, nan, nan, nan, nan, nan, nan, nan, nan, 25.0, nan, nan, nan, 29.0], [3.0, nan, nan, nan, nan, nan, nan, nan, nan, nan, nan, nan, nan, nan, nan, nan, nan, nan, nan, nan, nan, nan, nan, nan, nan, nan, nan, 28.0, nan, nan], [4.0, nan, nan, nan, nan, nan, nan, nan, nan, nan, 10.0, nan, nan, nan, nan, nan, nan, 17.0, nan, 19.0, nan, nan, nan, nan, nan, nan, nan, nan, nan, 29.0], [5.0, nan, nan, nan, nan, nan, nan, nan, nan, 9.0, nan, nan, nan, nan, nan, 15.0, nan, nan, 18.0, nan, nan, nan, nan, nan, nan, nan, nan, nan, 28.0, nan], [6.0, 1.0, nan, nan, 4.0, nan, nan, nan, nan, nan, nan, nan, nan, nan, nan, nan, nan, nan, nan, nan, nan, nan, 22.0, nan, nan, nan, nan, nan, 28.0, 29.0], [7.0, nan, nan, nan, nan, nan, nan, nan, nan, nan, nan, nan, nan, nan, nan, nan, nan, nan, nan, nan, nan, nan, nan, 23.0, nan, nan, nan, nan, nan, nan], [8.0, nan, 2.0, nan, nan, nan, nan, nan, nan, nan, nan, nan, nan, nan, 14.0, nan, nan, nan, 18.0, nan, nan, nan, nan, 23.0, nan, nan, 26.0, nan, nan, nan], [9.0, nan, nan, nan, nan, nan, nan, nan, nan, nan, nan, nan, nan, nan, nan, nan, nan, nan, nan, nan, 20.0, nan, nan, nan, nan, nan, nan, nan, nan, nan], [10.0, nan, nan, nan, nan, 5.0, nan, nan, nan, nan, nan, nan, nan, nan, nan, nan, nan, nan, nan, nan, nan, nan, nan, nan, nan, nan, nan, nan, 28.0, nan], [11.0, nan, nan, 3.0, nan, nan, 6.0, nan, nan, nan, nan, nan, nan, nan, nan, nan, nan, nan, 18.0, nan, nan, nan, nan, nan, nan, 25.0, nan, 27.0, nan, nan], [12.0, nan, nan, 3.0, 4.0, nan, nan, 7.0, nan, nan, nan, 11.0, 12.0, 13.0, nan, nan, nan, nan, nan, nan, nan, nan, nan, nan, nan, 25.0, nan, nan, 28.0, 29.0]]\n"
     ]
    }
   ],
   "source": [
    "print(datos2)"
   ]
  }
 ],
 "metadata": {
  "kernelspec": {
   "display_name": "Python 3 (ipykernel)",
   "language": "python",
   "name": "python3"
  },
  "language_info": {
   "codemirror_mode": {
    "name": "ipython",
    "version": 3
   },
   "file_extension": ".py",
   "mimetype": "text/x-python",
   "name": "python",
   "nbconvert_exporter": "python",
   "pygments_lexer": "ipython3",
   "version": "3.9.7"
  }
 },
 "nbformat": 4,
 "nbformat_minor": 5
}
